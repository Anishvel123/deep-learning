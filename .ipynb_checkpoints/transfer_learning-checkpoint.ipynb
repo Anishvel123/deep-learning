{
  "nbformat": 4,
  "nbformat_minor": 0,
  "metadata": {
    "colab": {
      "provenance": []
    },
    "kernelspec": {
      "name": "python3",
      "display_name": "Python 3"
    },
    "language_info": {
      "name": "python"
    }
  },
  "cells": [
    {
      "cell_type": "code",
      "source": [
        "import numpy as np\n",
        "import matplotlib.pyplot as plt\n",
        "import tf_keras\n",
        "import tensorflow_hub as hub\n",
        "import cv2\n",
        "import pathlib\n",
        "from sklearn.model_selection import train_test_split\n",
        "import tensorflow as tf\n",
        "from tensorflow import keras"
      ],
      "metadata": {
        "id": "E3GJpcszDXXL"
      },
      "execution_count": 95,
      "outputs": []
    },
    {
      "cell_type": "code",
      "execution_count": 23,
      "metadata": {
        "id": "liT25NOJC1QM"
      },
      "outputs": [],
      "source": [
        "model = tf_keras.Sequential([\n",
        "    hub.KerasLayer(\"https://tfhub.dev/google/tf2-preview/mobilenet_v2/classification/4\", input_shape = (224, 224, 3))\n",
        "])"
      ]
    },
    {
      "cell_type": "code",
      "source": [
        "img = cv2.imread(\"goldfish.jpg\")\n",
        "img = cv2.resize(img, (224, 224))"
      ],
      "metadata": {
        "id": "eXPaMalxEBjZ"
      },
      "execution_count": 24,
      "outputs": []
    },
    {
      "cell_type": "code",
      "source": [
        "img = img / 225"
      ],
      "metadata": {
        "id": "7wkEnQsME0RB"
      },
      "execution_count": 15,
      "outputs": []
    },
    {
      "cell_type": "code",
      "source": [
        "pred = model.predict(img[np.newaxis, ...])"
      ],
      "metadata": {
        "colab": {
          "base_uri": "https://localhost:8080/"
        },
        "id": "2ZjwQI0wE4er",
        "outputId": "2a09dbf1-d00c-479d-a140-e0e65d2baaf3"
      },
      "execution_count": 29,
      "outputs": [
        {
          "output_type": "stream",
          "name": "stdout",
          "text": [
            "1/1 [==============================] - 0s 53ms/step\n"
          ]
        }
      ]
    },
    {
      "cell_type": "code",
      "source": [
        "np.argmax(pred)"
      ],
      "metadata": {
        "colab": {
          "base_uri": "https://localhost:8080/"
        },
        "id": "tu9uI6sNGC-t",
        "outputId": "ec7fbf1f-5e5e-49be-ab29-aa2e9e39551b"
      },
      "execution_count": 32,
      "outputs": [
        {
          "output_type": "execute_result",
          "data": {
            "text/plain": [
              "np.int64(795)"
            ]
          },
          "metadata": {},
          "execution_count": 32
        }
      ]
    },
    {
      "cell_type": "code",
      "source": [
        "classes = []\n",
        "with open(\"ImageNetLabels.txt\", \"r\") as f:\n",
        "  classes = f.read().splitlines()"
      ],
      "metadata": {
        "id": "JwuSnjg2GX5x"
      },
      "execution_count": 36,
      "outputs": []
    },
    {
      "cell_type": "code",
      "source": [
        "classes[np.argmax(pred)]"
      ],
      "metadata": {
        "colab": {
          "base_uri": "https://localhost:8080/",
          "height": 36
        },
        "id": "NgzXCqMsGoF9",
        "outputId": "095485f5-dccf-4df1-8b16-70078d21b29c"
      },
      "execution_count": 38,
      "outputs": [
        {
          "output_type": "execute_result",
          "data": {
            "text/plain": [
              "'shower curtain'"
            ],
            "application/vnd.google.colaboratory.intrinsic+json": {
              "type": "string"
            }
          },
          "metadata": {},
          "execution_count": 38
        }
      ]
    },
    {
      "cell_type": "code",
      "source": [
        "dataset_url = \"https://storage.googleapis.com/download.tensorflow.org/example_images/flower_photos.tgz\"\n",
        "data_dir = tf.keras.utils.get_file('flower_photos', origin=dataset_url,  cache_dir='.', untar=True)"
      ],
      "metadata": {
        "colab": {
          "base_uri": "https://localhost:8080/"
        },
        "id": "JfmzJqJyGwFQ",
        "outputId": "9b82b502-760f-48e9-ccb3-a42c046b1f4f"
      },
      "execution_count": 62,
      "outputs": [
        {
          "output_type": "stream",
          "name": "stdout",
          "text": [
            "Downloading data from https://storage.googleapis.com/download.tensorflow.org/example_images/flower_photos.tgz\n",
            "\u001b[1m228813984/228813984\u001b[0m \u001b[32m━━━━━━━━━━━━━━━━━━━━\u001b[0m\u001b[37m\u001b[0m \u001b[1m6s\u001b[0m 0us/step\n"
          ]
        }
      ]
    },
    {
      "cell_type": "code",
      "source": [
        "dir = pathlib.Path(data_dir)"
      ],
      "metadata": {
        "id": "n-YprZgxHLo-"
      },
      "execution_count": 63,
      "outputs": []
    },
    {
      "cell_type": "code",
      "source": [
        "image_dict = {\n",
        "    'roses': list(dir.glob('*/roses/*')),\n",
        "    'daisy': list(dir.glob('*/daisy/*')),\n",
        "    'dandelion': list(dir.glob('*/dandelion/*')),\n",
        "    'sunflowers': list(dir.glob('*/sunflowers/*')),\n",
        "    'tulips': list(dir.glob('*/tulips/*'))\n",
        "}"
      ],
      "metadata": {
        "id": "WukgNle3HZqr"
      },
      "execution_count": 64,
      "outputs": []
    },
    {
      "cell_type": "code",
      "source": [
        "flower_label_dict = {\n",
        "    'roses': 0,\n",
        "    'daisy': 1,\n",
        "    'dandelion': 2,\n",
        "    'sunflowers': 3,\n",
        "    'tulips': 4\n",
        "}"
      ],
      "metadata": {
        "id": "-VkktTWeHgTW"
      },
      "execution_count": 65,
      "outputs": []
    },
    {
      "cell_type": "code",
      "source": [
        "X, y = [], []\n",
        "for flower_name, images in image_dict.items():\n",
        "  for image in images:\n",
        "    img = cv2.imread(image)\n",
        "    resized_img = cv2.resize(img, (224, 224))\n",
        "    X.append(resized_img)\n",
        "    y.append(flower_label_dict[flower_name])"
      ],
      "metadata": {
        "id": "rlGFqlZcHjXd"
      },
      "execution_count": 100,
      "outputs": []
    },
    {
      "cell_type": "code",
      "source": [
        "X = np.array(X)\n",
        "y = np.array(y)"
      ],
      "metadata": {
        "id": "5ALuqWceHotx"
      },
      "execution_count": 101,
      "outputs": []
    },
    {
      "cell_type": "code",
      "source": [
        "X_train, X_test, y_train, y_test = train_test_split(X, y)"
      ],
      "metadata": {
        "id": "7mL1PV9yHrJ6"
      },
      "execution_count": 102,
      "outputs": []
    },
    {
      "cell_type": "code",
      "source": [
        "X_train = X_train / 255\n",
        "X_test = X_test / 225"
      ],
      "metadata": {
        "id": "zfBayuWDIXPU"
      },
      "execution_count": 103,
      "outputs": []
    },
    {
      "cell_type": "code",
      "source": [
        "modelb = tf_keras.Sequential([\n",
        "    hub.KerasLayer(\"https://tfhub.dev/google/tf2-preview/mobilenet_v2/classification/4\", input_shape = (224, 224, 3), trainable = False),\n",
        "    tf_keras.layers.Dense(1001, activation = 'softmax')\n",
        "])"
      ],
      "metadata": {
        "id": "twBFA8tuIZ44"
      },
      "execution_count": 104,
      "outputs": []
    },
    {
      "cell_type": "code",
      "source": [
        "modelb.compile(optimizer = 'adam', loss = keras.losses.SparseCategoricalCrossentropy(), metrics = ['accuracy'])"
      ],
      "metadata": {
        "id": "hOHVTAU9KB4E"
      },
      "execution_count": 105,
      "outputs": []
    },
    {
      "cell_type": "code",
      "source": [
        "modelb.fit(X_train, y_train, epochs = 5)"
      ],
      "metadata": {
        "id": "TUoezmQPe15u"
      },
      "execution_count": null,
      "outputs": []
    }
  ]
}